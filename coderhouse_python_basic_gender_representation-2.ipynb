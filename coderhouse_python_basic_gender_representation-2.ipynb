{
 "cells": [
  {
   "cell_type": "markdown",
   "id": "4aa6c5ef",
   "metadata": {},
   "source": [
    "# Import dataset"
   ]
  },
  {
   "cell_type": "code",
   "execution_count": 1,
   "id": "7071896f",
   "metadata": {
    "scrolled": true
   },
   "outputs": [
    {
     "data": {
      "text/html": [
       "<div>\n",
       "<style scoped>\n",
       "    .dataframe tbody tr th:only-of-type {\n",
       "        vertical-align: middle;\n",
       "    }\n",
       "\n",
       "    .dataframe tbody tr th {\n",
       "        vertical-align: top;\n",
       "    }\n",
       "\n",
       "    .dataframe thead th {\n",
       "        text-align: right;\n",
       "    }\n",
       "</style>\n",
       "<table border=\"1\" class=\"dataframe\">\n",
       "  <thead>\n",
       "    <tr style=\"text-align: right;\">\n",
       "      <th></th>\n",
       "      <th>Global ID</th>\n",
       "      <th>Gender</th>\n",
       "      <th>Employee Group</th>\n",
       "      <th>Employee Subgroup</th>\n",
       "      <th>Band Group</th>\n",
       "      <th>Employee Band</th>\n",
       "      <th>Band Equivalence</th>\n",
       "      <th>Status</th>\n",
       "      <th>Age Group</th>\n",
       "      <th>Tenure</th>\n",
       "      <th>...</th>\n",
       "      <th>Time in Position</th>\n",
       "      <th>Manager Flag</th>\n",
       "      <th>Zone</th>\n",
       "      <th>Country</th>\n",
       "      <th>City</th>\n",
       "      <th>Global Function</th>\n",
       "      <th>Inbev Entity Description</th>\n",
       "      <th>Special Group</th>\n",
       "      <th>Language</th>\n",
       "      <th>Inelegible</th>\n",
       "    </tr>\n",
       "  </thead>\n",
       "  <tbody>\n",
       "    <tr>\n",
       "      <th>0</th>\n",
       "      <td>3</td>\n",
       "      <td>MALE</td>\n",
       "      <td>Executives(Bd I-VII)</td>\n",
       "      <td>Permanent</td>\n",
       "      <td>V-VII</td>\n",
       "      <td>VI-B</td>\n",
       "      <td>VI</td>\n",
       "      <td>Active</td>\n",
       "      <td>25 YRS BUT LESS THAN 35 YRS OF AGE</td>\n",
       "      <td>5 YEARS BUT LESS THAN 10 YEARS SERVICE</td>\n",
       "      <td>...</td>\n",
       "      <td>6 MONTHS TO 1 YEAR</td>\n",
       "      <td>No</td>\n",
       "      <td>APC</td>\n",
       "      <td>India</td>\n",
       "      <td>Bangalore</td>\n",
       "      <td>PROCUREMENT</td>\n",
       "      <td>PROCUREMENT</td>\n",
       "      <td>No</td>\n",
       "      <td>English</td>\n",
       "      <td>No</td>\n",
       "    </tr>\n",
       "    <tr>\n",
       "      <th>1</th>\n",
       "      <td>14</td>\n",
       "      <td>MALE</td>\n",
       "      <td>Executives(Bd I-VII)</td>\n",
       "      <td>Executive(BandV-VII)</td>\n",
       "      <td>V-VII</td>\n",
       "      <td>VI-B</td>\n",
       "      <td>VI</td>\n",
       "      <td>Active</td>\n",
       "      <td>35 YRS BUT LESS THAN 45 YRS OF AGE</td>\n",
       "      <td>6 MONTHS BUT LESS THAN 1 YEAR SERVICE</td>\n",
       "      <td>...</td>\n",
       "      <td>6 MONTHS TO 1 YEAR</td>\n",
       "      <td>No</td>\n",
       "      <td>GHQ</td>\n",
       "      <td>India</td>\n",
       "      <td>Bengaluru</td>\n",
       "      <td>SOLUTIONS</td>\n",
       "      <td>SOLUTIONS</td>\n",
       "      <td>No</td>\n",
       "      <td>English</td>\n",
       "      <td>No</td>\n",
       "    </tr>\n",
       "    <tr>\n",
       "      <th>2</th>\n",
       "      <td>16</td>\n",
       "      <td>MALE</td>\n",
       "      <td>Executives(Bd I-VII)</td>\n",
       "      <td>Executive(BandV-VII)</td>\n",
       "      <td>V-VII</td>\n",
       "      <td>V-B</td>\n",
       "      <td>V</td>\n",
       "      <td>Active</td>\n",
       "      <td>25 YRS BUT LESS THAN 35 YRS OF AGE</td>\n",
       "      <td>1 YEAR BUT LESS THAN 5 YEARS SERVICE</td>\n",
       "      <td>...</td>\n",
       "      <td>1 YEAR TO 3 YEARS</td>\n",
       "      <td>Yes</td>\n",
       "      <td>GHQ</td>\n",
       "      <td>India</td>\n",
       "      <td>Bengaluru</td>\n",
       "      <td>SOLUTIONS</td>\n",
       "      <td>SOLUTIONS</td>\n",
       "      <td>No</td>\n",
       "      <td>English</td>\n",
       "      <td>No</td>\n",
       "    </tr>\n",
       "    <tr>\n",
       "      <th>3</th>\n",
       "      <td>19</td>\n",
       "      <td>MALE</td>\n",
       "      <td>Executives(Bd I-VII)</td>\n",
       "      <td>Executive(BandV-VII)</td>\n",
       "      <td>V-VII</td>\n",
       "      <td>VII-B</td>\n",
       "      <td>VII</td>\n",
       "      <td>Active</td>\n",
       "      <td>LESS THAN 25 YRS OF AGE</td>\n",
       "      <td>6 MONTHS BUT LESS THAN 1 YEAR SERVICE</td>\n",
       "      <td>...</td>\n",
       "      <td>6 MONTHS TO 1 YEAR</td>\n",
       "      <td>No</td>\n",
       "      <td>GHQ</td>\n",
       "      <td>India</td>\n",
       "      <td>Bengaluru</td>\n",
       "      <td>SOLUTIONS</td>\n",
       "      <td>SOLUTIONS</td>\n",
       "      <td>No</td>\n",
       "      <td>English</td>\n",
       "      <td>No</td>\n",
       "    </tr>\n",
       "    <tr>\n",
       "      <th>4</th>\n",
       "      <td>21</td>\n",
       "      <td>MALE</td>\n",
       "      <td>Executives(Bd I-VII)</td>\n",
       "      <td>Executive(BandV-VII)</td>\n",
       "      <td>V-VII</td>\n",
       "      <td>VII-A</td>\n",
       "      <td>VII</td>\n",
       "      <td>Active</td>\n",
       "      <td>35 YRS BUT LESS THAN 45 YRS OF AGE</td>\n",
       "      <td>1 YEAR BUT LESS THAN 5 YEARS SERVICE</td>\n",
       "      <td>...</td>\n",
       "      <td>LESS THAN 6 MONTHS</td>\n",
       "      <td>Yes</td>\n",
       "      <td>GHQ</td>\n",
       "      <td>India</td>\n",
       "      <td>Bengaluru</td>\n",
       "      <td>SOLUTIONS</td>\n",
       "      <td>SOLUTIONS BSC</td>\n",
       "      <td>No</td>\n",
       "      <td>English</td>\n",
       "      <td>No</td>\n",
       "    </tr>\n",
       "  </tbody>\n",
       "</table>\n",
       "<p>5 rows × 21 columns</p>\n",
       "</div>"
      ],
      "text/plain": [
       "   Global ID Gender        Employee Group     Employee Subgroup Band Group  \\\n",
       "0          3   MALE  Executives(Bd I-VII)             Permanent      V-VII   \n",
       "1         14   MALE  Executives(Bd I-VII)  Executive(BandV-VII)      V-VII   \n",
       "2         16   MALE  Executives(Bd I-VII)  Executive(BandV-VII)      V-VII   \n",
       "3         19   MALE  Executives(Bd I-VII)  Executive(BandV-VII)      V-VII   \n",
       "4         21   MALE  Executives(Bd I-VII)  Executive(BandV-VII)      V-VII   \n",
       "\n",
       "  Employee Band Band Equivalence  Status                           Age Group  \\\n",
       "0          VI-B               VI  Active  25 YRS BUT LESS THAN 35 YRS OF AGE   \n",
       "1          VI-B               VI  Active  35 YRS BUT LESS THAN 45 YRS OF AGE   \n",
       "2           V-B                V  Active  25 YRS BUT LESS THAN 35 YRS OF AGE   \n",
       "3         VII-B              VII  Active             LESS THAN 25 YRS OF AGE   \n",
       "4         VII-A              VII  Active  35 YRS BUT LESS THAN 45 YRS OF AGE   \n",
       "\n",
       "                                   Tenure  ...    Time in Position  \\\n",
       "0  5 YEARS BUT LESS THAN 10 YEARS SERVICE  ...  6 MONTHS TO 1 YEAR   \n",
       "1   6 MONTHS BUT LESS THAN 1 YEAR SERVICE  ...  6 MONTHS TO 1 YEAR   \n",
       "2    1 YEAR BUT LESS THAN 5 YEARS SERVICE  ...   1 YEAR TO 3 YEARS   \n",
       "3   6 MONTHS BUT LESS THAN 1 YEAR SERVICE  ...  6 MONTHS TO 1 YEAR   \n",
       "4    1 YEAR BUT LESS THAN 5 YEARS SERVICE  ...  LESS THAN 6 MONTHS   \n",
       "\n",
       "  Manager Flag Zone Country       City Global Function  \\\n",
       "0           No  APC   India  Bangalore     PROCUREMENT   \n",
       "1           No  GHQ   India  Bengaluru       SOLUTIONS   \n",
       "2          Yes  GHQ   India  Bengaluru       SOLUTIONS   \n",
       "3           No  GHQ   India  Bengaluru       SOLUTIONS   \n",
       "4          Yes  GHQ   India  Bengaluru       SOLUTIONS   \n",
       "\n",
       "  Inbev Entity Description Special Group Language Inelegible  \n",
       "0              PROCUREMENT            No  English         No  \n",
       "1                SOLUTIONS            No  English         No  \n",
       "2                SOLUTIONS            No  English         No  \n",
       "3                SOLUTIONS            No  English         No  \n",
       "4            SOLUTIONS BSC            No  English         No  \n",
       "\n",
       "[5 rows x 21 columns]"
      ]
     },
     "execution_count": 1,
     "metadata": {},
     "output_type": "execute_result"
    }
   ],
   "source": [
    "import pandas as pd\n",
    "\n",
    "# Replace 'your_dataset.csv' with the actual filename and path if needed\n",
    "file_path = '/Users/gaston/Downloads/HRIS_June_Random.xlsx - Sheet1.csv'\n",
    "\n",
    "# Load the CSV file into a DataFrame\n",
    "df = pd.read_csv(file_path)\n",
    "\n",
    "# Display the first few rows of the DataFrame to verify the data\n",
    "df.head()\n"
   ]
  },
  {
   "cell_type": "markdown",
   "id": "77e59d6b",
   "metadata": {},
   "source": [
    "# Explore dataset, including rows, columns, blank values and data types"
   ]
  },
  {
   "cell_type": "code",
   "execution_count": 2,
   "id": "fa9bbf10",
   "metadata": {},
   "outputs": [
    {
     "name": "stdout",
     "output_type": "stream",
     "text": [
      "Number of missing values by column:\n",
      "Global ID                      0\n",
      "Gender                      2200\n",
      "Employee Group              2203\n",
      "Employee Subgroup           2219\n",
      "Band Group                  2200\n",
      "Employee Band               2202\n",
      "Band Equivalence            2201\n",
      "Status                      2498\n",
      "Age Group                   2210\n",
      "Tenure                      2608\n",
      "Time in Band                2900\n",
      "Time in Position            3258\n",
      "Manager Flag                   0\n",
      "Zone                           0\n",
      "Country                     2215\n",
      "City                        2568\n",
      "Global Function                0\n",
      "Inbev Entity Description    2424\n",
      "Special Group                 15\n",
      "Language                      15\n",
      "Inelegible                     0\n",
      "dtype: int64\n",
      "\n",
      "Data types of each column:\n",
      "Global ID                    int64\n",
      "Gender                      object\n",
      "Employee Group              object\n",
      "Employee Subgroup           object\n",
      "Band Group                  object\n",
      "Employee Band               object\n",
      "Band Equivalence            object\n",
      "Status                      object\n",
      "Age Group                   object\n",
      "Tenure                      object\n",
      "Time in Band                object\n",
      "Time in Position            object\n",
      "Manager Flag                object\n",
      "Zone                        object\n",
      "Country                     object\n",
      "City                        object\n",
      "Global Function             object\n",
      "Inbev Entity Description    object\n",
      "Special Group               object\n",
      "Language                    object\n",
      "Inelegible                  object\n",
      "dtype: object\n"
     ]
    }
   ],
   "source": [
    "# Count the number of missing values (blanks) in each column\n",
    "missing_values = df.isnull().sum()\n",
    "\n",
    "# Get the data types of each column\n",
    "data_types = df.dtypes\n",
    "\n",
    "# Display the result\n",
    "print(\"Number of missing values by column:\")\n",
    "print(missing_values)\n",
    "\n",
    "print(\"\\nData types of each column:\")\n",
    "print(data_types)"
   ]
  },
  {
   "cell_type": "markdown",
   "id": "2d34556c",
   "metadata": {},
   "source": [
    "# Remove data that is not useful for the project: inactive employees"
   ]
  },
  {
   "cell_type": "code",
   "execution_count": 3,
   "id": "514be318",
   "metadata": {},
   "outputs": [
    {
     "name": "stdout",
     "output_type": "stream",
     "text": [
      "Employees by status:\n",
      "Active      36820\n",
      "Inactive      307\n",
      "Name: Status, dtype: int64\n"
     ]
    }
   ],
   "source": [
    "# Count employees by Status\n",
    "status_counts = df['Status'].value_counts()\n",
    "\n",
    "# Display the result\n",
    "print(\"Employees by status:\")\n",
    "print(status_counts)"
   ]
  },
  {
   "cell_type": "code",
   "execution_count": 4,
   "id": "4d0e2eb3",
   "metadata": {},
   "outputs": [
    {
     "name": "stdout",
     "output_type": "stream",
     "text": [
      "Employees by status after removing 'Inactive' employees:\n",
      "Active    36820\n",
      "Name: Status, dtype: int64\n"
     ]
    }
   ],
   "source": [
    "# Remove rows where 'Status' is 'Inactive'\n",
    "df = df[df['Status'] == 'Active']\n",
    "\n",
    "# Verify the changes\n",
    "status_counts = df['Status'].value_counts()\n",
    "print(\"Employees by status after removing 'Inactive' employees:\")\n",
    "print(status_counts)"
   ]
  },
  {
   "cell_type": "markdown",
   "id": "9c4e5cb8",
   "metadata": {},
   "source": [
    "# Remove data that is not useful for the project: columns Employee Subgroup, Employee Band, City, Inbev Entity Description, Special Group and Inelegibility"
   ]
  },
  {
   "cell_type": "code",
   "execution_count": 5,
   "id": "863bc46e",
   "metadata": {
    "scrolled": true
   },
   "outputs": [
    {
     "data": {
      "text/html": [
       "<div>\n",
       "<style scoped>\n",
       "    .dataframe tbody tr th:only-of-type {\n",
       "        vertical-align: middle;\n",
       "    }\n",
       "\n",
       "    .dataframe tbody tr th {\n",
       "        vertical-align: top;\n",
       "    }\n",
       "\n",
       "    .dataframe thead th {\n",
       "        text-align: right;\n",
       "    }\n",
       "</style>\n",
       "<table border=\"1\" class=\"dataframe\">\n",
       "  <thead>\n",
       "    <tr style=\"text-align: right;\">\n",
       "      <th></th>\n",
       "      <th>Global ID</th>\n",
       "      <th>Gender</th>\n",
       "      <th>Employee Group</th>\n",
       "      <th>Band Group</th>\n",
       "      <th>Band Equivalence</th>\n",
       "      <th>Status</th>\n",
       "      <th>Age Group</th>\n",
       "      <th>Tenure</th>\n",
       "      <th>Time in Band</th>\n",
       "      <th>Time in Position</th>\n",
       "      <th>Manager Flag</th>\n",
       "      <th>Zone</th>\n",
       "      <th>Country</th>\n",
       "      <th>Global Function</th>\n",
       "      <th>Language</th>\n",
       "    </tr>\n",
       "  </thead>\n",
       "  <tbody>\n",
       "    <tr>\n",
       "      <th>0</th>\n",
       "      <td>3</td>\n",
       "      <td>MALE</td>\n",
       "      <td>Executives(Bd I-VII)</td>\n",
       "      <td>V-VII</td>\n",
       "      <td>VI</td>\n",
       "      <td>Active</td>\n",
       "      <td>25 YRS BUT LESS THAN 35 YRS OF AGE</td>\n",
       "      <td>5 YEARS BUT LESS THAN 10 YEARS SERVICE</td>\n",
       "      <td>1 YEAR TO 3 YEARS</td>\n",
       "      <td>6 MONTHS TO 1 YEAR</td>\n",
       "      <td>No</td>\n",
       "      <td>APC</td>\n",
       "      <td>India</td>\n",
       "      <td>PROCUREMENT</td>\n",
       "      <td>English</td>\n",
       "    </tr>\n",
       "    <tr>\n",
       "      <th>1</th>\n",
       "      <td>14</td>\n",
       "      <td>MALE</td>\n",
       "      <td>Executives(Bd I-VII)</td>\n",
       "      <td>V-VII</td>\n",
       "      <td>VI</td>\n",
       "      <td>Active</td>\n",
       "      <td>35 YRS BUT LESS THAN 45 YRS OF AGE</td>\n",
       "      <td>6 MONTHS BUT LESS THAN 1 YEAR SERVICE</td>\n",
       "      <td>6 MONTHS TO 1 YEAR</td>\n",
       "      <td>6 MONTHS TO 1 YEAR</td>\n",
       "      <td>No</td>\n",
       "      <td>GHQ</td>\n",
       "      <td>India</td>\n",
       "      <td>SOLUTIONS</td>\n",
       "      <td>English</td>\n",
       "    </tr>\n",
       "    <tr>\n",
       "      <th>2</th>\n",
       "      <td>16</td>\n",
       "      <td>MALE</td>\n",
       "      <td>Executives(Bd I-VII)</td>\n",
       "      <td>V-VII</td>\n",
       "      <td>V</td>\n",
       "      <td>Active</td>\n",
       "      <td>25 YRS BUT LESS THAN 35 YRS OF AGE</td>\n",
       "      <td>1 YEAR BUT LESS THAN 5 YEARS SERVICE</td>\n",
       "      <td>1 YEAR TO 3 YEARS</td>\n",
       "      <td>1 YEAR TO 3 YEARS</td>\n",
       "      <td>Yes</td>\n",
       "      <td>GHQ</td>\n",
       "      <td>India</td>\n",
       "      <td>SOLUTIONS</td>\n",
       "      <td>English</td>\n",
       "    </tr>\n",
       "    <tr>\n",
       "      <th>3</th>\n",
       "      <td>19</td>\n",
       "      <td>MALE</td>\n",
       "      <td>Executives(Bd I-VII)</td>\n",
       "      <td>V-VII</td>\n",
       "      <td>VII</td>\n",
       "      <td>Active</td>\n",
       "      <td>LESS THAN 25 YRS OF AGE</td>\n",
       "      <td>6 MONTHS BUT LESS THAN 1 YEAR SERVICE</td>\n",
       "      <td>6 MONTHS TO 1 YEAR</td>\n",
       "      <td>6 MONTHS TO 1 YEAR</td>\n",
       "      <td>No</td>\n",
       "      <td>GHQ</td>\n",
       "      <td>India</td>\n",
       "      <td>SOLUTIONS</td>\n",
       "      <td>English</td>\n",
       "    </tr>\n",
       "    <tr>\n",
       "      <th>4</th>\n",
       "      <td>21</td>\n",
       "      <td>MALE</td>\n",
       "      <td>Executives(Bd I-VII)</td>\n",
       "      <td>V-VII</td>\n",
       "      <td>VII</td>\n",
       "      <td>Active</td>\n",
       "      <td>35 YRS BUT LESS THAN 45 YRS OF AGE</td>\n",
       "      <td>1 YEAR BUT LESS THAN 5 YEARS SERVICE</td>\n",
       "      <td>1 YEAR TO 3 YEARS</td>\n",
       "      <td>LESS THAN 6 MONTHS</td>\n",
       "      <td>Yes</td>\n",
       "      <td>GHQ</td>\n",
       "      <td>India</td>\n",
       "      <td>SOLUTIONS</td>\n",
       "      <td>English</td>\n",
       "    </tr>\n",
       "  </tbody>\n",
       "</table>\n",
       "</div>"
      ],
      "text/plain": [
       "   Global ID Gender        Employee Group Band Group Band Equivalence  Status  \\\n",
       "0          3   MALE  Executives(Bd I-VII)      V-VII               VI  Active   \n",
       "1         14   MALE  Executives(Bd I-VII)      V-VII               VI  Active   \n",
       "2         16   MALE  Executives(Bd I-VII)      V-VII                V  Active   \n",
       "3         19   MALE  Executives(Bd I-VII)      V-VII              VII  Active   \n",
       "4         21   MALE  Executives(Bd I-VII)      V-VII              VII  Active   \n",
       "\n",
       "                            Age Group                                  Tenure  \\\n",
       "0  25 YRS BUT LESS THAN 35 YRS OF AGE  5 YEARS BUT LESS THAN 10 YEARS SERVICE   \n",
       "1  35 YRS BUT LESS THAN 45 YRS OF AGE   6 MONTHS BUT LESS THAN 1 YEAR SERVICE   \n",
       "2  25 YRS BUT LESS THAN 35 YRS OF AGE    1 YEAR BUT LESS THAN 5 YEARS SERVICE   \n",
       "3             LESS THAN 25 YRS OF AGE   6 MONTHS BUT LESS THAN 1 YEAR SERVICE   \n",
       "4  35 YRS BUT LESS THAN 45 YRS OF AGE    1 YEAR BUT LESS THAN 5 YEARS SERVICE   \n",
       "\n",
       "         Time in Band    Time in Position Manager Flag Zone Country  \\\n",
       "0   1 YEAR TO 3 YEARS  6 MONTHS TO 1 YEAR           No  APC   India   \n",
       "1  6 MONTHS TO 1 YEAR  6 MONTHS TO 1 YEAR           No  GHQ   India   \n",
       "2   1 YEAR TO 3 YEARS   1 YEAR TO 3 YEARS          Yes  GHQ   India   \n",
       "3  6 MONTHS TO 1 YEAR  6 MONTHS TO 1 YEAR           No  GHQ   India   \n",
       "4   1 YEAR TO 3 YEARS  LESS THAN 6 MONTHS          Yes  GHQ   India   \n",
       "\n",
       "  Global Function Language  \n",
       "0     PROCUREMENT  English  \n",
       "1       SOLUTIONS  English  \n",
       "2       SOLUTIONS  English  \n",
       "3       SOLUTIONS  English  \n",
       "4       SOLUTIONS  English  "
      ]
     },
     "execution_count": 5,
     "metadata": {},
     "output_type": "execute_result"
    }
   ],
   "source": [
    "# List of columns to drop\n",
    "columns_to_drop = ['Employee Subgroup', 'Employee Band', 'City', 'Inbev Entity Description', 'Special Group', 'Inelegible']\n",
    "\n",
    "# Drop the columns\n",
    "df = df.drop(columns=columns_to_drop, errors='ignore')\n",
    "\n",
    "# Display the first few rows of the updated DataFrame\n",
    "df.head()"
   ]
  },
  {
   "cell_type": "markdown",
   "id": "7a9b3e9a",
   "metadata": {},
   "source": [
    "# Run ETL processes to standardize data: Languages"
   ]
  },
  {
   "cell_type": "code",
   "execution_count": 6,
   "id": "3c296673",
   "metadata": {
    "scrolled": true
   },
   "outputs": [
    {
     "name": "stdout",
     "output_type": "stream",
     "text": [
      "Employees by language:\n",
      "English            11822\n",
      "Spanish (MAZ)       8746\n",
      "Portuguese (BR)     5697\n",
      "Chinese             4201\n",
      "Spanish (SAZ)       1620\n",
      "Russian             1171\n",
      "French (CAN)         875\n",
      "Ukrainian            687\n",
      "Dutch                574\n",
      "Korean               517\n",
      "German               256\n",
      "French               239\n",
      "Vietnamese           191\n",
      "Italian               89\n",
      "Spanish (Spain)       71\n",
      "Japanese              64\n",
      "Name: Language, dtype: int64\n"
     ]
    }
   ],
   "source": [
    "# Count employees by language\n",
    "language_counts = df['Language'].value_counts()\n",
    "\n",
    "# Display the result\n",
    "print(\"Employees by language:\")\n",
    "print(language_counts)\n"
   ]
  },
  {
   "cell_type": "code",
   "execution_count": 7,
   "id": "1b1b3f40",
   "metadata": {
    "scrolled": true
   },
   "outputs": [
    {
     "name": "stdout",
     "output_type": "stream",
     "text": [
      "Employees by language:\n",
      "English            11822\n",
      "Spanish            10437\n",
      "Portuguese (BR)     5697\n",
      "Chinese             4201\n",
      "Russian             1171\n",
      "French              1114\n",
      "Ukrainian            687\n",
      "Dutch                574\n",
      "Korean               517\n",
      "German               256\n",
      "Vietnamese           191\n",
      "Italian               89\n",
      "Japanese              64\n",
      "Name: Language, dtype: int64\n"
     ]
    }
   ],
   "source": [
    "# Assuming 'Language' is the column containing languages in your DataFrame\n",
    "# Replace variations of Spanish with a single value 'Spanish'\n",
    "df['Language'] = df['Language'].replace({'Spanish (MAZ)': 'Spanish', 'Spanish (SAZ)': 'Spanish', 'Spanish (Spain)': 'Spanish'})\n",
    "df['Language'] = df['Language'].replace({'French (CAN)': 'French'})\n",
    "\n",
    "\n",
    "# Verify the changes\n",
    "language_counts = df['Language'].value_counts()\n",
    "print(\"Employees by language:\")\n",
    "print(language_counts)"
   ]
  },
  {
   "cell_type": "markdown",
   "id": "a67041a9",
   "metadata": {},
   "source": [
    "# Run ETL processes to standardize data: Global Function"
   ]
  },
  {
   "cell_type": "code",
   "execution_count": 8,
   "id": "2cee3965",
   "metadata": {},
   "outputs": [
    {
     "name": "stdout",
     "output_type": "stream",
     "text": [
      "Employees by global function:\n",
      "SALES                        10659\n",
      "SUPPLY                        9445\n",
      "SOLUTIONS                     7619\n",
      "LOGISTICS                     3216\n",
      "MARKETING                     1544\n",
      "PEOPLE                        1241\n",
      "PROCUREMENT                    896\n",
      "FINANCE                        823\n",
      "DIRECT TO CONSUMER             662\n",
      "LEGAL / CORPORATE AFFAIRS      582\n",
      "GENERAL MANAGEMENT             116\n",
      "SUSTAINABILITY                  12\n",
      "SALES                            3\n",
      "Procurement                      1\n",
      "SUPPLY                           1\n",
      "Name: Global Function, dtype: int64\n"
     ]
    }
   ],
   "source": [
    "# Count employees by global function\n",
    "global_function_counts = df['Global Function'].value_counts()\n",
    "\n",
    "# Display the result\n",
    "print(\"Employees by global function:\")\n",
    "print(global_function_counts)"
   ]
  },
  {
   "cell_type": "code",
   "execution_count": 9,
   "id": "aa678dad",
   "metadata": {
    "scrolled": true
   },
   "outputs": [
    {
     "name": "stdout",
     "output_type": "stream",
     "text": [
      "Number of employees by global function after standardization:\n",
      "sales                        10662\n",
      "supply                        9446\n",
      "solutions                     7619\n",
      "logistics                     3216\n",
      "marketing                     1544\n",
      "people                        1241\n",
      "procurement                    897\n",
      "finance                        823\n",
      "direct to consumer             662\n",
      "legal / corporate affairs      582\n",
      "general management             116\n",
      "sustainability                  12\n",
      "Name: Global Function, dtype: int64\n"
     ]
    }
   ],
   "source": [
    "# Convert all entries within Global Function to lowercase\n",
    "df['Global Function'] = df['Global Function'].str.lower()\n",
    "\n",
    "# Standardize SALES and PROCUREMENT\n",
    "df['Global Function'] = df['Global Function'].replace({'sales ': 'sales', 'procurement': 'procurement','supply ':'supply'})\n",
    "\n",
    "# Verify the changes\n",
    "function_counts = df['Global Function'].value_counts()\n",
    "print(\"Number of employees by global function after standardization:\")\n",
    "print(function_counts)"
   ]
  },
  {
   "cell_type": "markdown",
   "id": "aaafab58",
   "metadata": {},
   "source": [
    "# Run ETL processes to standardize data: Gender"
   ]
  },
  {
   "cell_type": "code",
   "execution_count": 10,
   "id": "51db2a7b",
   "metadata": {},
   "outputs": [
    {
     "name": "stdout",
     "output_type": "stream",
     "text": [
      "Employees by gender:\n",
      "MALE       24149\n",
      "FEMALE     12659\n",
      "UNKNOWN       12\n",
      "Name: Gender, dtype: int64\n"
     ]
    }
   ],
   "source": [
    "# Count employees by gender\n",
    "gender_counts = df['Gender'].value_counts()\n",
    "\n",
    "# Display the result\n",
    "print(\"Employees by gender:\")\n",
    "print(gender_counts)"
   ]
  },
  {
   "cell_type": "code",
   "execution_count": 11,
   "id": "0fe9fc4b",
   "metadata": {},
   "outputs": [
    {
     "name": "stdout",
     "output_type": "stream",
     "text": [
      "Number of employees by gender:\n",
      "male       24149\n",
      "female     12659\n",
      "unknown       12\n",
      "Name: Gender, dtype: int64\n"
     ]
    }
   ],
   "source": [
    "# Convert all entries within Gender to lowercase\n",
    "df['Gender'] = df['Gender'].str.lower()\n",
    "\n",
    "# Standardize MALE and FEMALE\n",
    "df['Gender'] = df['Gender'].replace({'male': 'male', 'female': 'female'})\n",
    "\n",
    "# Verify the changes\n",
    "gender_counts = df['Gender'].value_counts()\n",
    "print(\"Number of employees by gender:\")\n",
    "print(gender_counts)"
   ]
  },
  {
   "cell_type": "markdown",
   "id": "e4be3c38",
   "metadata": {},
   "source": [
    "# Run ETL processes to standardize data: Band Equivalance"
   ]
  },
  {
   "cell_type": "code",
   "execution_count": 12,
   "id": "13306670",
   "metadata": {},
   "outputs": [
    {
     "name": "stdout",
     "output_type": "stream",
     "text": [
      "Employees by band:\n",
      "VII    18012\n",
      "VI     11185\n",
      "V       5279\n",
      "IV      1607\n",
      "III      501\n",
      "II       150\n",
      "I         57\n",
      "SLT       16\n",
      "0         12\n",
      "CEO        1\n",
      "Name: Band Equivalence, dtype: int64\n"
     ]
    }
   ],
   "source": [
    "# Count employees by Band Equivalence\n",
    "band_equivalence_counts = df['Band Equivalence'].value_counts()\n",
    "\n",
    "# Display the result\n",
    "print(\"Employees by band:\")\n",
    "print(band_equivalence_counts)"
   ]
  },
  {
   "cell_type": "code",
   "execution_count": 13,
   "id": "1a25ad20",
   "metadata": {},
   "outputs": [
    {
     "name": "stdout",
     "output_type": "stream",
     "text": [
      "Number of employees by band:\n",
      "vii    18012\n",
      "vi     11185\n",
      "v       5279\n",
      "iv      1607\n",
      "iii      501\n",
      "ii       150\n",
      "i         57\n",
      "slt       16\n",
      "0         12\n",
      "ceo        1\n",
      "Name: Band Equivalence, dtype: int64\n"
     ]
    }
   ],
   "source": [
    "# Convert all entries within Band Equivalence\n",
    "df['Band Equivalence'] = df['Band Equivalence'].str.lower()\n",
    "\n",
    "# Standardize MALE and FEMALE\n",
    "df['Band Equivalence'] = df['Band Equivalence'].replace({'vi ': 'vi'})\n",
    "\n",
    "# Verify the changes\n",
    "band_equivalence_counts = df['Band Equivalence'].value_counts()\n",
    "print(\"Number of employees by band:\")\n",
    "print(band_equivalence_counts)"
   ]
  },
  {
   "cell_type": "markdown",
   "id": "3e1668f6",
   "metadata": {},
   "source": [
    "# Run ETL processes to standardize data: Manager Flag"
   ]
  },
  {
   "cell_type": "code",
   "execution_count": 14,
   "id": "faf51e83",
   "metadata": {},
   "outputs": [
    {
     "name": "stdout",
     "output_type": "stream",
     "text": [
      "Employees by manager flag:\n",
      "No     21067\n",
      "Yes    15753\n",
      "Name: Manager Flag, dtype: int64\n"
     ]
    }
   ],
   "source": [
    "# Count employees by Manager Flag\n",
    "manager_flag_counts = df['Manager Flag'].value_counts()\n",
    "\n",
    "# Display the result\n",
    "print(\"Employees by manager flag:\")\n",
    "print(manager_flag_counts)"
   ]
  },
  {
   "cell_type": "code",
   "execution_count": 15,
   "id": "5c757d2e",
   "metadata": {},
   "outputs": [],
   "source": [
    "## No changes are needed"
   ]
  },
  {
   "cell_type": "markdown",
   "id": "aff0abe8",
   "metadata": {},
   "source": [
    "# Run ETL processes to standardize data: Zone"
   ]
  },
  {
   "cell_type": "code",
   "execution_count": 16,
   "id": "b9e13d29",
   "metadata": {},
   "outputs": [
    {
     "name": "stdout",
     "output_type": "stream",
     "text": [
      "Employees by Zone:\n",
      "MAZ              8800\n",
      "SAZ              7302\n",
      "APC              5377\n",
      "NAZ              4841\n",
      "EUR              4196\n",
      "GHQ              3120\n",
      "AFR              2560\n",
      "GROWTH GROUPS     624\n",
      "Name: Zone, dtype: int64\n"
     ]
    }
   ],
   "source": [
    "# Count employees by Zone\n",
    "zone_counts = df['Zone'].value_counts()\n",
    "\n",
    "# Display the result\n",
    "print(\"Employees by Zone:\")\n",
    "print(zone_counts)"
   ]
  },
  {
   "cell_type": "code",
   "execution_count": 17,
   "id": "a45902ae",
   "metadata": {},
   "outputs": [],
   "source": [
    "## No changes are needed"
   ]
  },
  {
   "cell_type": "code",
   "execution_count": null,
   "id": "b8a7f3bd",
   "metadata": {},
   "outputs": [],
   "source": []
  },
  {
   "cell_type": "code",
   "execution_count": null,
   "id": "823f04e3",
   "metadata": {},
   "outputs": [],
   "source": []
  }
 ],
 "metadata": {
  "kernelspec": {
   "display_name": "Python 3 (ipykernel)",
   "language": "python",
   "name": "python3"
  },
  "language_info": {
   "codemirror_mode": {
    "name": "ipython",
    "version": 3
   },
   "file_extension": ".py",
   "mimetype": "text/x-python",
   "name": "python",
   "nbconvert_exporter": "python",
   "pygments_lexer": "ipython3",
   "version": "3.11.3"
  }
 },
 "nbformat": 4,
 "nbformat_minor": 5
}
