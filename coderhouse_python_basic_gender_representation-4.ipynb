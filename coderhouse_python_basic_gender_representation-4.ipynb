{
 "cells": [
  {
   "cell_type": "markdown",
   "id": "4aa6c5ef",
   "metadata": {},
   "source": [
    "# Import dataset"
   ]
  },
  {
   "cell_type": "code",
   "execution_count": 1,
   "id": "7071896f",
   "metadata": {
    "scrolled": true
   },
   "outputs": [
    {
     "data": {
      "text/html": [
       "<div>\n",
       "<style scoped>\n",
       "    .dataframe tbody tr th:only-of-type {\n",
       "        vertical-align: middle;\n",
       "    }\n",
       "\n",
       "    .dataframe tbody tr th {\n",
       "        vertical-align: top;\n",
       "    }\n",
       "\n",
       "    .dataframe thead th {\n",
       "        text-align: right;\n",
       "    }\n",
       "</style>\n",
       "<table border=\"1\" class=\"dataframe\">\n",
       "  <thead>\n",
       "    <tr style=\"text-align: right;\">\n",
       "      <th></th>\n",
       "      <th>Global ID</th>\n",
       "      <th>Gender</th>\n",
       "      <th>Employee Group</th>\n",
       "      <th>Employee Subgroup</th>\n",
       "      <th>Band Group</th>\n",
       "      <th>Employee Band</th>\n",
       "      <th>Band Equivalence</th>\n",
       "      <th>Status</th>\n",
       "      <th>Age Group</th>\n",
       "      <th>Tenure</th>\n",
       "      <th>...</th>\n",
       "      <th>Time in Position</th>\n",
       "      <th>Manager Flag</th>\n",
       "      <th>Zone</th>\n",
       "      <th>Country</th>\n",
       "      <th>City</th>\n",
       "      <th>Global Function</th>\n",
       "      <th>Inbev Entity Description</th>\n",
       "      <th>Special Group</th>\n",
       "      <th>Language</th>\n",
       "      <th>Inelegible</th>\n",
       "    </tr>\n",
       "  </thead>\n",
       "  <tbody>\n",
       "    <tr>\n",
       "      <th>0</th>\n",
       "      <td>3</td>\n",
       "      <td>MALE</td>\n",
       "      <td>Executives(Bd I-VII)</td>\n",
       "      <td>Permanent</td>\n",
       "      <td>V-VII</td>\n",
       "      <td>VI-B</td>\n",
       "      <td>VI</td>\n",
       "      <td>Active</td>\n",
       "      <td>25 YRS BUT LESS THAN 35 YRS OF AGE</td>\n",
       "      <td>5 YEARS BUT LESS THAN 10 YEARS SERVICE</td>\n",
       "      <td>...</td>\n",
       "      <td>6 MONTHS TO 1 YEAR</td>\n",
       "      <td>No</td>\n",
       "      <td>APC</td>\n",
       "      <td>India</td>\n",
       "      <td>Bangalore</td>\n",
       "      <td>PROCUREMENT</td>\n",
       "      <td>PROCUREMENT</td>\n",
       "      <td>No</td>\n",
       "      <td>English</td>\n",
       "      <td>No</td>\n",
       "    </tr>\n",
       "    <tr>\n",
       "      <th>1</th>\n",
       "      <td>14</td>\n",
       "      <td>MALE</td>\n",
       "      <td>Executives(Bd I-VII)</td>\n",
       "      <td>Executive(BandV-VII)</td>\n",
       "      <td>V-VII</td>\n",
       "      <td>VI-B</td>\n",
       "      <td>VI</td>\n",
       "      <td>Active</td>\n",
       "      <td>35 YRS BUT LESS THAN 45 YRS OF AGE</td>\n",
       "      <td>6 MONTHS BUT LESS THAN 1 YEAR SERVICE</td>\n",
       "      <td>...</td>\n",
       "      <td>6 MONTHS TO 1 YEAR</td>\n",
       "      <td>No</td>\n",
       "      <td>GHQ</td>\n",
       "      <td>India</td>\n",
       "      <td>Bengaluru</td>\n",
       "      <td>SOLUTIONS</td>\n",
       "      <td>SOLUTIONS</td>\n",
       "      <td>No</td>\n",
       "      <td>English</td>\n",
       "      <td>No</td>\n",
       "    </tr>\n",
       "    <tr>\n",
       "      <th>2</th>\n",
       "      <td>16</td>\n",
       "      <td>MALE</td>\n",
       "      <td>Executives(Bd I-VII)</td>\n",
       "      <td>Executive(BandV-VII)</td>\n",
       "      <td>V-VII</td>\n",
       "      <td>V-B</td>\n",
       "      <td>V</td>\n",
       "      <td>Active</td>\n",
       "      <td>25 YRS BUT LESS THAN 35 YRS OF AGE</td>\n",
       "      <td>1 YEAR BUT LESS THAN 5 YEARS SERVICE</td>\n",
       "      <td>...</td>\n",
       "      <td>1 YEAR TO 3 YEARS</td>\n",
       "      <td>Yes</td>\n",
       "      <td>GHQ</td>\n",
       "      <td>India</td>\n",
       "      <td>Bengaluru</td>\n",
       "      <td>SOLUTIONS</td>\n",
       "      <td>SOLUTIONS</td>\n",
       "      <td>No</td>\n",
       "      <td>English</td>\n",
       "      <td>No</td>\n",
       "    </tr>\n",
       "    <tr>\n",
       "      <th>3</th>\n",
       "      <td>19</td>\n",
       "      <td>MALE</td>\n",
       "      <td>Executives(Bd I-VII)</td>\n",
       "      <td>Executive(BandV-VII)</td>\n",
       "      <td>V-VII</td>\n",
       "      <td>VII-B</td>\n",
       "      <td>VII</td>\n",
       "      <td>Active</td>\n",
       "      <td>LESS THAN 25 YRS OF AGE</td>\n",
       "      <td>6 MONTHS BUT LESS THAN 1 YEAR SERVICE</td>\n",
       "      <td>...</td>\n",
       "      <td>6 MONTHS TO 1 YEAR</td>\n",
       "      <td>No</td>\n",
       "      <td>GHQ</td>\n",
       "      <td>India</td>\n",
       "      <td>Bengaluru</td>\n",
       "      <td>SOLUTIONS</td>\n",
       "      <td>SOLUTIONS</td>\n",
       "      <td>No</td>\n",
       "      <td>English</td>\n",
       "      <td>No</td>\n",
       "    </tr>\n",
       "    <tr>\n",
       "      <th>4</th>\n",
       "      <td>21</td>\n",
       "      <td>MALE</td>\n",
       "      <td>Executives(Bd I-VII)</td>\n",
       "      <td>Executive(BandV-VII)</td>\n",
       "      <td>V-VII</td>\n",
       "      <td>VII-A</td>\n",
       "      <td>VII</td>\n",
       "      <td>Active</td>\n",
       "      <td>35 YRS BUT LESS THAN 45 YRS OF AGE</td>\n",
       "      <td>1 YEAR BUT LESS THAN 5 YEARS SERVICE</td>\n",
       "      <td>...</td>\n",
       "      <td>LESS THAN 6 MONTHS</td>\n",
       "      <td>Yes</td>\n",
       "      <td>GHQ</td>\n",
       "      <td>India</td>\n",
       "      <td>Bengaluru</td>\n",
       "      <td>SOLUTIONS</td>\n",
       "      <td>SOLUTIONS BSC</td>\n",
       "      <td>No</td>\n",
       "      <td>English</td>\n",
       "      <td>No</td>\n",
       "    </tr>\n",
       "  </tbody>\n",
       "</table>\n",
       "<p>5 rows × 21 columns</p>\n",
       "</div>"
      ],
      "text/plain": [
       "   Global ID Gender        Employee Group     Employee Subgroup Band Group  \\\n",
       "0          3   MALE  Executives(Bd I-VII)             Permanent      V-VII   \n",
       "1         14   MALE  Executives(Bd I-VII)  Executive(BandV-VII)      V-VII   \n",
       "2         16   MALE  Executives(Bd I-VII)  Executive(BandV-VII)      V-VII   \n",
       "3         19   MALE  Executives(Bd I-VII)  Executive(BandV-VII)      V-VII   \n",
       "4         21   MALE  Executives(Bd I-VII)  Executive(BandV-VII)      V-VII   \n",
       "\n",
       "  Employee Band Band Equivalence  Status                           Age Group  \\\n",
       "0          VI-B               VI  Active  25 YRS BUT LESS THAN 35 YRS OF AGE   \n",
       "1          VI-B               VI  Active  35 YRS BUT LESS THAN 45 YRS OF AGE   \n",
       "2           V-B                V  Active  25 YRS BUT LESS THAN 35 YRS OF AGE   \n",
       "3         VII-B              VII  Active             LESS THAN 25 YRS OF AGE   \n",
       "4         VII-A              VII  Active  35 YRS BUT LESS THAN 45 YRS OF AGE   \n",
       "\n",
       "                                   Tenure  ...    Time in Position  \\\n",
       "0  5 YEARS BUT LESS THAN 10 YEARS SERVICE  ...  6 MONTHS TO 1 YEAR   \n",
       "1   6 MONTHS BUT LESS THAN 1 YEAR SERVICE  ...  6 MONTHS TO 1 YEAR   \n",
       "2    1 YEAR BUT LESS THAN 5 YEARS SERVICE  ...   1 YEAR TO 3 YEARS   \n",
       "3   6 MONTHS BUT LESS THAN 1 YEAR SERVICE  ...  6 MONTHS TO 1 YEAR   \n",
       "4    1 YEAR BUT LESS THAN 5 YEARS SERVICE  ...  LESS THAN 6 MONTHS   \n",
       "\n",
       "  Manager Flag Zone Country       City Global Function  \\\n",
       "0           No  APC   India  Bangalore     PROCUREMENT   \n",
       "1           No  GHQ   India  Bengaluru       SOLUTIONS   \n",
       "2          Yes  GHQ   India  Bengaluru       SOLUTIONS   \n",
       "3           No  GHQ   India  Bengaluru       SOLUTIONS   \n",
       "4          Yes  GHQ   India  Bengaluru       SOLUTIONS   \n",
       "\n",
       "  Inbev Entity Description Special Group Language Inelegible  \n",
       "0              PROCUREMENT            No  English         No  \n",
       "1                SOLUTIONS            No  English         No  \n",
       "2                SOLUTIONS            No  English         No  \n",
       "3                SOLUTIONS            No  English         No  \n",
       "4            SOLUTIONS BSC            No  English         No  \n",
       "\n",
       "[5 rows x 21 columns]"
      ]
     },
     "execution_count": 1,
     "metadata": {},
     "output_type": "execute_result"
    }
   ],
   "source": [
    "import pandas as pd\n",
    "import matplotlib.pyplot as plt\n",
    "import numpy as np\n",
    "\n",
    "# Replace 'your_dataset.csv' with the actual filename and path if needed\n",
    "file_path = '/Users/gaston/Downloads/HRIS_June_Random.xlsx - Sheet1.csv'\n",
    "\n",
    "# Load the CSV file into a DataFrame\n",
    "df = pd.read_csv(file_path)\n",
    "\n",
    "# Display the first few rows of the DataFrame to verify the data\n",
    "df.head()\n"
   ]
  },
  {
   "cell_type": "markdown",
   "id": "77e59d6b",
   "metadata": {},
   "source": [
    "# Explore dataset, including rows, columns, blank values and data types"
   ]
  },
  {
   "cell_type": "code",
   "execution_count": 2,
   "id": "fa9bbf10",
   "metadata": {},
   "outputs": [
    {
     "name": "stdout",
     "output_type": "stream",
     "text": [
      "Number of missing values by column:\n",
      "Global ID                      0\n",
      "Gender                      2200\n",
      "Employee Group              2203\n",
      "Employee Subgroup           2219\n",
      "Band Group                  2200\n",
      "Employee Band               2202\n",
      "Band Equivalence            2201\n",
      "Status                      2498\n",
      "Age Group                   2210\n",
      "Tenure                      2608\n",
      "Time in Band                2900\n",
      "Time in Position            3258\n",
      "Manager Flag                   0\n",
      "Zone                           0\n",
      "Country                     2215\n",
      "City                        2568\n",
      "Global Function                0\n",
      "Inbev Entity Description    2424\n",
      "Special Group                 15\n",
      "Language                      15\n",
      "Inelegible                     0\n",
      "dtype: int64\n",
      "\n",
      "Data types of each column:\n",
      "Global ID                    int64\n",
      "Gender                      object\n",
      "Employee Group              object\n",
      "Employee Subgroup           object\n",
      "Band Group                  object\n",
      "Employee Band               object\n",
      "Band Equivalence            object\n",
      "Status                      object\n",
      "Age Group                   object\n",
      "Tenure                      object\n",
      "Time in Band                object\n",
      "Time in Position            object\n",
      "Manager Flag                object\n",
      "Zone                        object\n",
      "Country                     object\n",
      "City                        object\n",
      "Global Function             object\n",
      "Inbev Entity Description    object\n",
      "Special Group               object\n",
      "Language                    object\n",
      "Inelegible                  object\n",
      "dtype: object\n"
     ]
    }
   ],
   "source": [
    "# Count the number of missing values (blanks) in each column\n",
    "missing_values = df.isnull().sum()\n",
    "\n",
    "# Get the data types of each column\n",
    "data_types = df.dtypes\n",
    "\n",
    "# Display the result\n",
    "print(\"Number of missing values by column:\")\n",
    "print(missing_values)\n",
    "\n",
    "print(\"\\nData types of each column:\")\n",
    "print(data_types)"
   ]
  },
  {
   "cell_type": "markdown",
   "id": "2d34556c",
   "metadata": {},
   "source": [
    "# Remove data that is not useful for the project: inactive employees"
   ]
  },
  {
   "cell_type": "code",
   "execution_count": 3,
   "id": "514be318",
   "metadata": {},
   "outputs": [
    {
     "name": "stdout",
     "output_type": "stream",
     "text": [
      "Employees by status:\n",
      "Active      36820\n",
      "Inactive      307\n",
      "Name: Status, dtype: int64\n"
     ]
    }
   ],
   "source": [
    "# Count employees by Status\n",
    "status_counts = df['Status'].value_counts()\n",
    "\n",
    "# Display the result\n",
    "print(\"Employees by status:\")\n",
    "print(status_counts)"
   ]
  },
  {
   "cell_type": "code",
   "execution_count": 4,
   "id": "4d0e2eb3",
   "metadata": {},
   "outputs": [
    {
     "name": "stdout",
     "output_type": "stream",
     "text": [
      "Employees by status after removing 'Inactive' employees:\n",
      "Active    36820\n",
      "Name: Status, dtype: int64\n"
     ]
    }
   ],
   "source": [
    "# Remove rows where 'Status' is 'Inactive'\n",
    "df = df[df['Status'] == 'Active']\n",
    "\n",
    "# Verify the changes\n",
    "status_counts = df['Status'].value_counts()\n",
    "print(\"Employees by status after removing 'Inactive' employees:\")\n",
    "print(status_counts)"
   ]
  },
  {
   "cell_type": "markdown",
   "id": "9c4e5cb8",
   "metadata": {},
   "source": [
    "# Remove data that is not useful for the project: columns Employee Subgroup, Employee Band, City, Inbev Entity Description, Special Group and Inelegibility"
   ]
  },
  {
   "cell_type": "code",
   "execution_count": 5,
   "id": "863bc46e",
   "metadata": {
    "scrolled": true
   },
   "outputs": [
    {
     "data": {
      "text/html": [
       "<div>\n",
       "<style scoped>\n",
       "    .dataframe tbody tr th:only-of-type {\n",
       "        vertical-align: middle;\n",
       "    }\n",
       "\n",
       "    .dataframe tbody tr th {\n",
       "        vertical-align: top;\n",
       "    }\n",
       "\n",
       "    .dataframe thead th {\n",
       "        text-align: right;\n",
       "    }\n",
       "</style>\n",
       "<table border=\"1\" class=\"dataframe\">\n",
       "  <thead>\n",
       "    <tr style=\"text-align: right;\">\n",
       "      <th></th>\n",
       "      <th>Global ID</th>\n",
       "      <th>Gender</th>\n",
       "      <th>Employee Group</th>\n",
       "      <th>Band Group</th>\n",
       "      <th>Band Equivalence</th>\n",
       "      <th>Status</th>\n",
       "      <th>Age Group</th>\n",
       "      <th>Tenure</th>\n",
       "      <th>Time in Band</th>\n",
       "      <th>Time in Position</th>\n",
       "      <th>Manager Flag</th>\n",
       "      <th>Zone</th>\n",
       "      <th>Country</th>\n",
       "      <th>Global Function</th>\n",
       "      <th>Language</th>\n",
       "    </tr>\n",
       "  </thead>\n",
       "  <tbody>\n",
       "    <tr>\n",
       "      <th>0</th>\n",
       "      <td>3</td>\n",
       "      <td>MALE</td>\n",
       "      <td>Executives(Bd I-VII)</td>\n",
       "      <td>V-VII</td>\n",
       "      <td>VI</td>\n",
       "      <td>Active</td>\n",
       "      <td>25 YRS BUT LESS THAN 35 YRS OF AGE</td>\n",
       "      <td>5 YEARS BUT LESS THAN 10 YEARS SERVICE</td>\n",
       "      <td>1 YEAR TO 3 YEARS</td>\n",
       "      <td>6 MONTHS TO 1 YEAR</td>\n",
       "      <td>No</td>\n",
       "      <td>APC</td>\n",
       "      <td>India</td>\n",
       "      <td>PROCUREMENT</td>\n",
       "      <td>English</td>\n",
       "    </tr>\n",
       "    <tr>\n",
       "      <th>1</th>\n",
       "      <td>14</td>\n",
       "      <td>MALE</td>\n",
       "      <td>Executives(Bd I-VII)</td>\n",
       "      <td>V-VII</td>\n",
       "      <td>VI</td>\n",
       "      <td>Active</td>\n",
       "      <td>35 YRS BUT LESS THAN 45 YRS OF AGE</td>\n",
       "      <td>6 MONTHS BUT LESS THAN 1 YEAR SERVICE</td>\n",
       "      <td>6 MONTHS TO 1 YEAR</td>\n",
       "      <td>6 MONTHS TO 1 YEAR</td>\n",
       "      <td>No</td>\n",
       "      <td>GHQ</td>\n",
       "      <td>India</td>\n",
       "      <td>SOLUTIONS</td>\n",
       "      <td>English</td>\n",
       "    </tr>\n",
       "    <tr>\n",
       "      <th>2</th>\n",
       "      <td>16</td>\n",
       "      <td>MALE</td>\n",
       "      <td>Executives(Bd I-VII)</td>\n",
       "      <td>V-VII</td>\n",
       "      <td>V</td>\n",
       "      <td>Active</td>\n",
       "      <td>25 YRS BUT LESS THAN 35 YRS OF AGE</td>\n",
       "      <td>1 YEAR BUT LESS THAN 5 YEARS SERVICE</td>\n",
       "      <td>1 YEAR TO 3 YEARS</td>\n",
       "      <td>1 YEAR TO 3 YEARS</td>\n",
       "      <td>Yes</td>\n",
       "      <td>GHQ</td>\n",
       "      <td>India</td>\n",
       "      <td>SOLUTIONS</td>\n",
       "      <td>English</td>\n",
       "    </tr>\n",
       "    <tr>\n",
       "      <th>3</th>\n",
       "      <td>19</td>\n",
       "      <td>MALE</td>\n",
       "      <td>Executives(Bd I-VII)</td>\n",
       "      <td>V-VII</td>\n",
       "      <td>VII</td>\n",
       "      <td>Active</td>\n",
       "      <td>LESS THAN 25 YRS OF AGE</td>\n",
       "      <td>6 MONTHS BUT LESS THAN 1 YEAR SERVICE</td>\n",
       "      <td>6 MONTHS TO 1 YEAR</td>\n",
       "      <td>6 MONTHS TO 1 YEAR</td>\n",
       "      <td>No</td>\n",
       "      <td>GHQ</td>\n",
       "      <td>India</td>\n",
       "      <td>SOLUTIONS</td>\n",
       "      <td>English</td>\n",
       "    </tr>\n",
       "    <tr>\n",
       "      <th>4</th>\n",
       "      <td>21</td>\n",
       "      <td>MALE</td>\n",
       "      <td>Executives(Bd I-VII)</td>\n",
       "      <td>V-VII</td>\n",
       "      <td>VII</td>\n",
       "      <td>Active</td>\n",
       "      <td>35 YRS BUT LESS THAN 45 YRS OF AGE</td>\n",
       "      <td>1 YEAR BUT LESS THAN 5 YEARS SERVICE</td>\n",
       "      <td>1 YEAR TO 3 YEARS</td>\n",
       "      <td>LESS THAN 6 MONTHS</td>\n",
       "      <td>Yes</td>\n",
       "      <td>GHQ</td>\n",
       "      <td>India</td>\n",
       "      <td>SOLUTIONS</td>\n",
       "      <td>English</td>\n",
       "    </tr>\n",
       "  </tbody>\n",
       "</table>\n",
       "</div>"
      ],
      "text/plain": [
       "   Global ID Gender        Employee Group Band Group Band Equivalence  Status  \\\n",
       "0          3   MALE  Executives(Bd I-VII)      V-VII               VI  Active   \n",
       "1         14   MALE  Executives(Bd I-VII)      V-VII               VI  Active   \n",
       "2         16   MALE  Executives(Bd I-VII)      V-VII                V  Active   \n",
       "3         19   MALE  Executives(Bd I-VII)      V-VII              VII  Active   \n",
       "4         21   MALE  Executives(Bd I-VII)      V-VII              VII  Active   \n",
       "\n",
       "                            Age Group                                  Tenure  \\\n",
       "0  25 YRS BUT LESS THAN 35 YRS OF AGE  5 YEARS BUT LESS THAN 10 YEARS SERVICE   \n",
       "1  35 YRS BUT LESS THAN 45 YRS OF AGE   6 MONTHS BUT LESS THAN 1 YEAR SERVICE   \n",
       "2  25 YRS BUT LESS THAN 35 YRS OF AGE    1 YEAR BUT LESS THAN 5 YEARS SERVICE   \n",
       "3             LESS THAN 25 YRS OF AGE   6 MONTHS BUT LESS THAN 1 YEAR SERVICE   \n",
       "4  35 YRS BUT LESS THAN 45 YRS OF AGE    1 YEAR BUT LESS THAN 5 YEARS SERVICE   \n",
       "\n",
       "         Time in Band    Time in Position Manager Flag Zone Country  \\\n",
       "0   1 YEAR TO 3 YEARS  6 MONTHS TO 1 YEAR           No  APC   India   \n",
       "1  6 MONTHS TO 1 YEAR  6 MONTHS TO 1 YEAR           No  GHQ   India   \n",
       "2   1 YEAR TO 3 YEARS   1 YEAR TO 3 YEARS          Yes  GHQ   India   \n",
       "3  6 MONTHS TO 1 YEAR  6 MONTHS TO 1 YEAR           No  GHQ   India   \n",
       "4   1 YEAR TO 3 YEARS  LESS THAN 6 MONTHS          Yes  GHQ   India   \n",
       "\n",
       "  Global Function Language  \n",
       "0     PROCUREMENT  English  \n",
       "1       SOLUTIONS  English  \n",
       "2       SOLUTIONS  English  \n",
       "3       SOLUTIONS  English  \n",
       "4       SOLUTIONS  English  "
      ]
     },
     "execution_count": 5,
     "metadata": {},
     "output_type": "execute_result"
    }
   ],
   "source": [
    "# List of columns to drop\n",
    "columns_to_drop = ['Employee Subgroup', 'Employee Band', 'City', 'Inbev Entity Description', 'Special Group', 'Inelegible']\n",
    "\n",
    "# Drop the columns\n",
    "df = df.drop(columns=columns_to_drop, errors='ignore')\n",
    "\n",
    "# Display the first few rows of the updated DataFrame\n",
    "df.head()"
   ]
  },
  {
   "cell_type": "markdown",
   "id": "7a9b3e9a",
   "metadata": {},
   "source": [
    "# Run ETL processes to standardize data: Languages"
   ]
  },
  {
   "cell_type": "code",
   "execution_count": 6,
   "id": "3c296673",
   "metadata": {
    "scrolled": true
   },
   "outputs": [
    {
     "name": "stdout",
     "output_type": "stream",
     "text": [
      "Employees by language:\n",
      "English            11822\n",
      "Spanish (MAZ)       8746\n",
      "Portuguese (BR)     5697\n",
      "Chinese             4201\n",
      "Spanish (SAZ)       1620\n",
      "Russian             1171\n",
      "French (CAN)         875\n",
      "Ukrainian            687\n",
      "Dutch                574\n",
      "Korean               517\n",
      "German               256\n",
      "French               239\n",
      "Vietnamese           191\n",
      "Italian               89\n",
      "Spanish (Spain)       71\n",
      "Japanese              64\n",
      "Name: Language, dtype: int64\n"
     ]
    }
   ],
   "source": [
    "# Count employees by language\n",
    "language_counts = df['Language'].value_counts()\n",
    "\n",
    "# Display the result\n",
    "print(\"Employees by language:\")\n",
    "print(language_counts)\n"
   ]
  },
  {
   "cell_type": "code",
   "execution_count": 7,
   "id": "1b1b3f40",
   "metadata": {
    "scrolled": false
   },
   "outputs": [
    {
     "name": "stdout",
     "output_type": "stream",
     "text": [
      "Employees by language:\n",
      "English            11822\n",
      "Spanish            10437\n",
      "Portuguese (BR)     5697\n",
      "Chinese             4201\n",
      "Russian             1171\n",
      "French              1114\n",
      "Ukrainian            687\n",
      "Dutch                574\n",
      "Korean               517\n",
      "German               256\n",
      "Vietnamese           191\n",
      "Italian               89\n",
      "Japanese              64\n",
      "Name: Language, dtype: int64\n"
     ]
    }
   ],
   "source": [
    "# Assuming 'Language' is the column containing languages in your DataFrame\n",
    "# Replace variations of Spanish with a single value 'Spanish'\n",
    "df['Language'] = df['Language'].replace({'Spanish (MAZ)': 'Spanish', 'Spanish (SAZ)': 'Spanish', 'Spanish (Spain)': 'Spanish'})\n",
    "df['Language'] = df['Language'].replace({'French (CAN)': 'French'})\n",
    "\n",
    "\n",
    "# Verify the changes\n",
    "language_counts = df['Language'].value_counts()\n",
    "print(\"Employees by language:\")\n",
    "print(language_counts)"
   ]
  },
  {
   "cell_type": "markdown",
   "id": "a67041a9",
   "metadata": {},
   "source": [
    "# Run ETL processes to standardize data: Global Function"
   ]
  },
  {
   "cell_type": "code",
   "execution_count": 8,
   "id": "2cee3965",
   "metadata": {
    "scrolled": true
   },
   "outputs": [
    {
     "name": "stdout",
     "output_type": "stream",
     "text": [
      "Employees by global function:\n",
      "SALES                        10659\n",
      "SUPPLY                        9445\n",
      "SOLUTIONS                     7619\n",
      "LOGISTICS                     3216\n",
      "MARKETING                     1544\n",
      "PEOPLE                        1241\n",
      "PROCUREMENT                    896\n",
      "FINANCE                        823\n",
      "DIRECT TO CONSUMER             662\n",
      "LEGAL / CORPORATE AFFAIRS      582\n",
      "GENERAL MANAGEMENT             116\n",
      "SUSTAINABILITY                  12\n",
      "SALES                            3\n",
      "Procurement                      1\n",
      "SUPPLY                           1\n",
      "Name: Global Function, dtype: int64\n"
     ]
    }
   ],
   "source": [
    "# Count employees by global function\n",
    "global_function_counts = df['Global Function'].value_counts()\n",
    "\n",
    "# Display the result\n",
    "print(\"Employees by global function:\")\n",
    "print(global_function_counts)"
   ]
  },
  {
   "cell_type": "code",
   "execution_count": 9,
   "id": "aa678dad",
   "metadata": {
    "scrolled": true
   },
   "outputs": [
    {
     "name": "stdout",
     "output_type": "stream",
     "text": [
      "Number of employees by global function after standardization:\n",
      "sales                        10662\n",
      "supply                        9446\n",
      "solutions                     7619\n",
      "logistics                     3216\n",
      "marketing                     1544\n",
      "people                        1241\n",
      "procurement                    897\n",
      "finance                        823\n",
      "direct to consumer             662\n",
      "legal / corporate affairs      582\n",
      "general management             116\n",
      "sustainability                  12\n",
      "Name: Global Function, dtype: int64\n"
     ]
    }
   ],
   "source": [
    "# Convert all entries within Global Function to lowercase\n",
    "df['Global Function'] = df['Global Function'].str.lower()\n",
    "\n",
    "# Standardize SALES and PROCUREMENT\n",
    "df['Global Function'] = df['Global Function'].replace({'sales ': 'sales', 'procurement': 'procurement','supply ':'supply'})\n",
    "\n",
    "# Verify the changes\n",
    "function_counts = df['Global Function'].value_counts()\n",
    "print(\"Number of employees by global function after standardization:\")\n",
    "print(function_counts)"
   ]
  },
  {
   "cell_type": "markdown",
   "id": "aaafab58",
   "metadata": {},
   "source": [
    "# Run ETL processes to standardize data: Gender"
   ]
  },
  {
   "cell_type": "code",
   "execution_count": 10,
   "id": "51db2a7b",
   "metadata": {},
   "outputs": [
    {
     "name": "stdout",
     "output_type": "stream",
     "text": [
      "Employees by gender:\n",
      "MALE       24149\n",
      "FEMALE     12659\n",
      "UNKNOWN       12\n",
      "Name: Gender, dtype: int64\n"
     ]
    }
   ],
   "source": [
    "# Count employees by gender\n",
    "gender_counts = df['Gender'].value_counts()\n",
    "\n",
    "# Display the result\n",
    "print(\"Employees by gender:\")\n",
    "print(gender_counts)"
   ]
  },
  {
   "cell_type": "code",
   "execution_count": 11,
   "id": "0fe9fc4b",
   "metadata": {},
   "outputs": [
    {
     "name": "stdout",
     "output_type": "stream",
     "text": [
      "Number of employees by gender:\n",
      "male       24149\n",
      "female     12659\n",
      "unknown       12\n",
      "Name: Gender, dtype: int64\n"
     ]
    }
   ],
   "source": [
    "# Convert all entries within Gender to lowercase\n",
    "df['Gender'] = df['Gender'].str.lower()\n",
    "\n",
    "# Standardize MALE and FEMALE\n",
    "df['Gender'] = df['Gender'].replace({'male': 'male', 'female': 'female'})\n",
    "\n",
    "# Verify the changes\n",
    "gender_counts = df['Gender'].value_counts()\n",
    "print(\"Number of employees by gender:\")\n",
    "print(gender_counts)"
   ]
  },
  {
   "cell_type": "markdown",
   "id": "e4be3c38",
   "metadata": {},
   "source": [
    "# Run ETL processes to standardize data: Band Equivalance"
   ]
  },
  {
   "cell_type": "code",
   "execution_count": 12,
   "id": "13306670",
   "metadata": {
    "scrolled": true
   },
   "outputs": [
    {
     "name": "stdout",
     "output_type": "stream",
     "text": [
      "Employees by band:\n",
      "VII    18012\n",
      "VI     11185\n",
      "V       5279\n",
      "IV      1607\n",
      "III      501\n",
      "II       150\n",
      "I         57\n",
      "SLT       16\n",
      "0         12\n",
      "CEO        1\n",
      "Name: Band Equivalence, dtype: int64\n"
     ]
    }
   ],
   "source": [
    "# Count employees by Band Equivalence\n",
    "band_equivalence_counts = df['Band Equivalence'].value_counts()\n",
    "\n",
    "# Display the result\n",
    "print(\"Employees by band:\")\n",
    "print(band_equivalence_counts)"
   ]
  },
  {
   "cell_type": "code",
   "execution_count": 13,
   "id": "1a25ad20",
   "metadata": {},
   "outputs": [
    {
     "name": "stdout",
     "output_type": "stream",
     "text": [
      "Number of employees by band:\n",
      "vii    18012\n",
      "vi     11185\n",
      "v       5279\n",
      "iv      1607\n",
      "iii      501\n",
      "ii       150\n",
      "i         57\n",
      "slt       16\n",
      "0         12\n",
      "ceo        1\n",
      "Name: Band Equivalence, dtype: int64\n"
     ]
    }
   ],
   "source": [
    "# Convert all entries within Band Equivalence\n",
    "df['Band Equivalence'] = df['Band Equivalence'].str.lower()\n",
    "\n",
    "# Standardize MALE and FEMALE\n",
    "df['Band Equivalence'] = df['Band Equivalence'].replace({'vi ': 'vi'})\n",
    "\n",
    "# Verify the changes\n",
    "band_equivalence_counts = df['Band Equivalence'].value_counts()\n",
    "print(\"Number of employees by band:\")\n",
    "print(band_equivalence_counts)"
   ]
  },
  {
   "cell_type": "markdown",
   "id": "3e1668f6",
   "metadata": {},
   "source": [
    "# Run ETL processes to standardize data: Manager Flag"
   ]
  },
  {
   "cell_type": "code",
   "execution_count": 14,
   "id": "faf51e83",
   "metadata": {},
   "outputs": [
    {
     "name": "stdout",
     "output_type": "stream",
     "text": [
      "Employees by manager flag:\n",
      "No     21067\n",
      "Yes    15753\n",
      "Name: Manager Flag, dtype: int64\n"
     ]
    }
   ],
   "source": [
    "# Count employees by Manager Flag\n",
    "manager_flag_counts = df['Manager Flag'].value_counts()\n",
    "\n",
    "# Display the result\n",
    "print(\"Employees by manager flag:\")\n",
    "print(manager_flag_counts)"
   ]
  },
  {
   "cell_type": "code",
   "execution_count": 15,
   "id": "5c757d2e",
   "metadata": {},
   "outputs": [],
   "source": [
    "## No changes are needed"
   ]
  },
  {
   "cell_type": "markdown",
   "id": "aff0abe8",
   "metadata": {},
   "source": [
    "# Run ETL processes to standardize data: Zone"
   ]
  },
  {
   "cell_type": "code",
   "execution_count": 16,
   "id": "b9e13d29",
   "metadata": {},
   "outputs": [
    {
     "name": "stdout",
     "output_type": "stream",
     "text": [
      "Employees by Zone:\n",
      "MAZ              8800\n",
      "SAZ              7302\n",
      "APC              5377\n",
      "NAZ              4841\n",
      "EUR              4196\n",
      "GHQ              3120\n",
      "AFR              2560\n",
      "GROWTH GROUPS     624\n",
      "Name: Zone, dtype: int64\n"
     ]
    }
   ],
   "source": [
    "# Count employees by Zone\n",
    "zone_counts = df['Zone'].value_counts()\n",
    "\n",
    "# Display the result\n",
    "print(\"Employees by Zone:\")\n",
    "print(zone_counts)"
   ]
  },
  {
   "cell_type": "code",
   "execution_count": 17,
   "id": "a45902ae",
   "metadata": {},
   "outputs": [],
   "source": [
    "## No changes are needed"
   ]
  },
  {
   "cell_type": "markdown",
   "id": "1c379e41",
   "metadata": {},
   "source": [
    "# Identify the current status: Global managerial representation"
   ]
  },
  {
   "cell_type": "code",
   "execution_count": 18,
   "id": "db422d57",
   "metadata": {
    "scrolled": true
   },
   "outputs": [
    {
     "name": "stdout",
     "output_type": "stream",
     "text": [
      "Distribution of employees by managerial status:\n",
      "Gender        female   male\n",
      "Manager Flag               \n",
      "No              8378  12680\n",
      "Yes             4281  11469\n"
     ]
    }
   ],
   "source": [
    "# Assuming 'Zone' and 'Gender' are the column names in your DataFrame\n",
    "# Exclude rows where 'Gender' is 'unknown'\n",
    "filtered_df_unknown_gender = df[df['Gender'] != 'unknown']\n",
    "\n",
    "# Group by 'Manager Status' and 'Gender', and calculate the size of each group\n",
    "gender_by_managerial_status = filtered_df_unknown_gender.groupby(['Manager Flag', 'Gender']).size().unstack()\n",
    "\n",
    "# Display the result\n",
    "print(\"Distribution of employees by managerial status:\")\n",
    "print(gender_by_managerial_status)"
   ]
  },
  {
   "cell_type": "code",
   "execution_count": null,
   "id": "a2889983",
   "metadata": {
    "scrolled": true
   },
   "outputs": [],
   "source": []
  },
  {
   "cell_type": "code",
   "execution_count": 19,
   "id": "d83861c2",
   "metadata": {},
   "outputs": [
    {
     "name": "stdout",
     "output_type": "stream",
     "text": [
      "Percentage distribution of employees by managerial status:\n",
      "Gender           female       male\n",
      "Manager Flag                      \n",
      "No            39.785355  60.214645\n",
      "Yes           27.180952  72.819048\n"
     ]
    }
   ],
   "source": [
    "# Calculate the total count (male + female) for each Manager Status\n",
    "total_by_manager_status = gender_by_managerial_status.sum(axis=1)\n",
    "\n",
    "# Calculate the percentages\n",
    "percentage_gender_by_managerial_status = gender_by_managerial_status.divide(total_by_manager_status, axis=0) * 100\n",
    "\n",
    "# Display the result\n",
    "print(\"Percentage distribution of employees by managerial status:\")\n",
    "print(percentage_gender_by_managerial_status)"
   ]
  },
  {
   "cell_type": "code",
   "execution_count": 20,
   "id": "7ad67673",
   "metadata": {},
   "outputs": [
    {
     "data": {
      "image/png": "[encoded data removed]",
      "text/plain": [
       "<Figure size 1200x600 with 1 Axes>"
      ]
     },
     "metadata": {},
     "output_type": "display_data"
    }
   ],
   "source": [
    "# Define colors for female and male\n",
    "colors = {'female': 'violet', 'male': 'green'}\n",
    "\n",
    "# Calculate the total percentage of female representation for each Manager status\n",
    "total_percentage_female_managerial_status = percentage_gender_by_managerial_status['female']\n",
    "\n",
    "# Sort the manager status based on the total percentage of female representation in descending order\n",
    "sorted_manager_status = total_percentage_female_managerial_status.sort_values(ascending=False).index\n",
    "\n",
    "# Reorder the DataFrame and plot the percentage distribution with custom colors\n",
    "ax_2 = percentage_gender_by_managerial_status.loc[sorted_manager_status].plot(kind='bar', stacked=True, figsize=(12, 6), color=[colors[col] for col in percentage_gender_by_managerial_status.columns])\n",
    "\n",
    "# Add labels and title\n",
    "plt.title('Percentage Distribution of Employees by Managerial Status (Ordered by Female Representation)')\n",
    "plt.xlabel('Managerial Status')\n",
    "plt.ylabel('Percentage')\n",
    "plt.legend(title='Gender', labels=['Female', 'Male'])\n",
    "\n",
    "# Annotate percentages inside each bar with 1 decimal for the second plot\n",
    "for p in ax_2.patches:\n",
    "    width, height = p.get_width(), p.get_height()\n",
    "    x, y = p.get_xy()\n",
    "    ax_2.annotate(f'{height:.1f}%', (x + width / 2, y + height / 2), ha='center', va='center')\n",
    "\n",
    "# Replace 'Yes' with 'Managers' and 'No' with 'Not Managers' on the x-axis\n",
    "plt.xticks(range(len(sorted_manager_status)), ['Managers' if val == 'Yes' else 'Not Managers' for val in sorted_manager_status], rotation=0)\n",
    "\n",
    "# Show the plot\n",
    "plt.show()"
   ]
  },
  {
   "cell_type": "markdown",
   "id": "828fc04f",
   "metadata": {},
   "source": [
    "# Identify the current status: Zone representation"
   ]
  },
  {
   "cell_type": "code",
   "execution_count": 22,
   "id": "823f04e3",
   "metadata": {},
   "outputs": [
    {
     "name": "stdout",
     "output_type": "stream",
     "text": [
      "Distribution of employees by gender and zone (excluding unknowns):\n",
      "Gender         female  male\n",
      "Zone                       \n",
      "AFR               816  1744\n",
      "APC              1735  3642\n",
      "EUR              1606  2589\n",
      "GHQ              1009  2110\n",
      "GROWTH GROUPS     242   382\n",
      "MAZ              2921  5879\n",
      "NAZ              1607  3224\n",
      "SAZ              2723  4579\n"
     ]
    }
   ],
   "source": [
    "# Group by 'Zone' and 'Gender', and calculate the size of each group\n",
    "gender_by_zone = filtered_df_unknown_gender.groupby(['Zone', 'Gender']).size().unstack()\n",
    "\n",
    "# Display the result\n",
    "print(\"Distribution of employees by gender and zone (excluding unknowns):\")\n",
    "print(gender_by_zone)"
   ]
  },
  {
   "cell_type": "code",
   "execution_count": 23,
   "id": "46c77791",
   "metadata": {},
   "outputs": [
    {
     "name": "stdout",
     "output_type": "stream",
     "text": [
      "Percentage distribution of employees by gender and zone:\n",
      "Gender            female       male\n",
      "Zone                               \n",
      "AFR            31.875000  68.125000\n",
      "APC            32.267063  67.732937\n",
      "EUR            38.283671  61.716329\n",
      "GHQ            32.350112  67.649888\n",
      "GROWTH GROUPS  38.782051  61.217949\n",
      "MAZ            33.193182  66.806818\n",
      "NAZ            33.264335  66.735665\n",
      "SAZ            37.291153  62.708847\n"
     ]
    }
   ],
   "source": [
    "# Calculate the total count (male + female) for each Zone\n",
    "total_by_zone = gender_by_zone.sum(axis=1)\n",
    "\n",
    "# Calculate the percentages\n",
    "percentage_gender_by_zone = gender_by_zone.divide(total_by_zone, axis=0) * 100\n",
    "\n",
    "# Display the result\n",
    "print(\"Percentage distribution of employees by gender and zone:\")\n",
    "print(percentage_gender_by_zone)\n"
   ]
  },
  {
   "cell_type": "code",
   "execution_count": 24,
   "id": "3046ca60",
   "metadata": {},
   "outputs": [
    {
     "data": {
      "image/png": "[encoded data removed]",
      "text/plain": [
       "<Figure size 1200x600 with 1 Axes>"
      ]
     },
     "metadata": {},
     "output_type": "display_data"
    }
   ],
   "source": [
    "# Define colors for female, male, and unknown\n",
    "colors = {'female': 'violet', 'male': 'green', 'unknown': 'grey'}\n",
    "\n",
    "# Calculate the total percentage of female representation for each zone\n",
    "total_percentage_female = percentage_gender_by_zone['female']\n",
    "\n",
    "# Sort the zones based on the total percentage of female representation in descending order\n",
    "sorted_zones = total_percentage_female.sort_values(ascending=False).index\n",
    "\n",
    "# Reorder the DataFrame and plot the percentage distribution with custom colors\n",
    "ax = percentage_gender_by_zone.loc[sorted_zones].plot(kind='bar', stacked=True, figsize=(12, 6), color=[colors[col] for col in percentage_gender_by_zone.columns])\n",
    "\n",
    "# Add labels and title\n",
    "plt.title('Percentage Distribution of Employees by Gender and Zone (Ordered by Female Representation)')\n",
    "plt.xlabel('Zone')\n",
    "plt.ylabel('Percentage')\n",
    "plt.legend(title='Gender', labels=['Female', 'Male', 'Unknown'])\n",
    "\n",
    "# Annotate percentages inside each bar with 1 decimal\n",
    "for p in ax.patches:\n",
    "    width, height = p.get_width(), p.get_height()\n",
    "    x, y = p.get_xy()\n",
    "    ax.annotate(f'{height:.1f}%', (x + width / 2, y + height / 2), ha='center', va='center')\n",
    "\n",
    "# Show the plot\n",
    "plt.show()"
   ]
  },
  {
   "cell_type": "markdown",
   "id": "59fcc36d",
   "metadata": {},
   "source": [
    "# Identify the current status: Function representation"
   ]
  },
  {
   "cell_type": "code",
   "execution_count": 26,
   "id": "fffb4777",
   "metadata": {},
   "outputs": [
    {
     "name": "stdout",
     "output_type": "stream",
     "text": [
      "Distribution of employees by global function:\n",
      "Gender                     female  male\n",
      "Global Function                        \n",
      "direct to consumer            254   408\n",
      "finance                       357   465\n",
      "general management             40    74\n",
      "legal / corporate affairs     290   292\n",
      "logistics                    1021  2194\n",
      "marketing                     859   684\n",
      "people                        867   373\n",
      "procurement                   433   464\n",
      "sales                        3106  7553\n",
      "solutions                    3111  4507\n",
      "supply                       2312  7132\n",
      "sustainability                  9     3\n"
     ]
    }
   ],
   "source": [
    "# Group by 'Global Function' and 'Gender', and calculate the size of each group\n",
    "gender_by_global_function = filtered_df_unknown_gender.groupby(['Global Function', 'Gender']).size().unstack()\n",
    "\n",
    "# Display the result\n",
    "print(\"Distribution of employees by global function:\")\n",
    "print(gender_by_global_function)"
   ]
  },
  {
   "cell_type": "code",
   "execution_count": 27,
   "id": "b9e3584b",
   "metadata": {},
   "outputs": [
    {
     "name": "stdout",
     "output_type": "stream",
     "text": [
      "Percentage distribution of employees by global function:\n",
      "Gender                        female       male\n",
      "Global Function                                \n",
      "direct to consumer         38.368580  61.631420\n",
      "finance                    43.430657  56.569343\n",
      "general management         35.087719  64.912281\n",
      "legal / corporate affairs  49.828179  50.171821\n",
      "logistics                  31.757387  68.242613\n",
      "marketing                  55.670771  44.329229\n",
      "people                     69.919355  30.080645\n",
      "procurement                48.272018  51.727982\n",
      "sales                      29.139694  70.860306\n",
      "solutions                  40.837490  59.162510\n",
      "supply                     24.481152  75.518848\n",
      "sustainability             75.000000  25.000000\n"
     ]
    }
   ],
   "source": [
    "# Calculate the total count (male + female) for each Global Function\n",
    "total_by_global_function = gender_by_global_function.sum(axis=1)\n",
    "\n",
    "# Calculate the percentages\n",
    "percentage_gender_by_global_function = gender_by_global_function.divide(total_by_global_function, axis=0) * 100\n",
    "\n",
    "# Display the result\n",
    "print(\"Percentage distribution of employees by global function:\")\n",
    "print(percentage_gender_by_global_function)"
   ]
  },
  {
   "cell_type": "code",
   "execution_count": 28,
   "id": "821ad62b",
   "metadata": {},
   "outputs": [
    {
     "data": {
      "image/png": "[encoded data removed]",
      "text/plain": [
       "<Figure size 1200x600 with 1 Axes>"
      ]
     },
     "metadata": {},
     "output_type": "display_data"
    }
   ],
   "source": [
    "# Select only the 'female' column for plotting\n",
    "female_representation_by_global_function = percentage_gender_by_global_function['female']\n",
    "\n",
    "# Sort the global functions based on the total percentage of female representation in descending order\n",
    "sorted_global_functions = female_representation_by_global_function.sort_values(ascending=False).index\n",
    "\n",
    "# Reorder the DataFrame and plot the bar chart\n",
    "ax_global_function = female_representation_by_global_function.loc[sorted_global_functions].plot(kind='bar', figsize=(12, 6), color='violet')\n",
    "\n",
    "# Add labels and title\n",
    "plt.title('Percentage Distribution of Female Employees by Global Function (Ordered by Female Representation)')\n",
    "plt.xlabel('Global Function')\n",
    "plt.ylabel('Percentage')\n",
    "plt.ylim(0, 100)  # Set y-axis limit to ensure percentage values are between 0 and 100\n",
    "\n",
    "# Annotate percentages inside each bar with 1 decimal\n",
    "for p in ax_global_function.patches:\n",
    "    width, height = p.get_width(), p.get_height()\n",
    "    x, y = p.get_xy()\n",
    "    ax_global_function.annotate(f'{height:.1f}%', (x + width / 2, y + height / 2), ha='center', va='center')\n",
    "\n",
    "# Show the plot\n",
    "plt.show()"
   ]
  },
  {
   "cell_type": "markdown",
   "id": "648bdea2",
   "metadata": {},
   "source": [
    "# Identify the current status: Band 0-III representation"
   ]
  },
  {
   "cell_type": "code",
   "execution_count": 29,
   "id": "c064e06b",
   "metadata": {
    "scrolled": true
   },
   "outputs": [
    {
     "name": "stdout",
     "output_type": "stream",
     "text": [
      "Distribution of employees by band (NaN replaced with 0):\n",
      "Gender            female     male\n",
      "Band Equivalence                 \n",
      "0                    1.0     11.0\n",
      "ceo                  0.0      1.0\n",
      "i                    4.0     52.0\n",
      "ii                  24.0    126.0\n",
      "iii                127.0    374.0\n",
      "iv                 453.0   1154.0\n",
      "slt                  2.0     14.0\n",
      "v                 1834.0   3443.0\n",
      "vi                3961.0   7220.0\n",
      "vii               6253.0  11754.0\n"
     ]
    }
   ],
   "source": [
    "# Group by 'Band Equivalence' and 'Gender', and calculate the size of each group\n",
    "gender_by_band_equivalence = filtered_df_unknown_gender.groupby(['Band Equivalence', 'Gender']).size().unstack()\n",
    "\n",
    "# Replace NaN with 0 in the gender_by_band_equivalence DataFrame\n",
    "gender_by_band_equivalence = gender_by_band_equivalence.fillna(0)\n",
    "\n",
    "# Display the updated result\n",
    "print(\"Distribution of employees by band (NaN replaced with 0):\")\n",
    "print(gender_by_band_equivalence)"
   ]
  },
  {
   "cell_type": "code",
   "execution_count": 30,
   "id": "73190b8f",
   "metadata": {
    "scrolled": true
   },
   "outputs": [
    {
     "name": "stdout",
     "output_type": "stream",
     "text": [
      "Distribution of employees excluding bands 'iv', 'v', 'vi', 'vii':\n",
      "Gender            female   male\n",
      "Band Equivalence               \n",
      "0                    1.0   11.0\n",
      "ceo                  0.0    1.0\n",
      "i                    4.0   52.0\n",
      "ii                  24.0  126.0\n",
      "iii                127.0  374.0\n",
      "slt                  2.0   14.0\n"
     ]
    }
   ],
   "source": [
    "# Filter the DataFrame to exclude bands 'iv', 'v', 'vi', and 'vii'\n",
    "excluded_bands = ['iv', 'v', 'vi', 'vii']\n",
    "filtered_gender_by_band_equivalence = gender_by_band_equivalence[~gender_by_band_equivalence.index.isin(excluded_bands)]\n",
    "\n",
    "# Display the updated result\n",
    "print(\"Distribution of employees excluding bands 'iv', 'v', 'vi', 'vii':\")\n",
    "print(filtered_gender_by_band_equivalence)"
   ]
  },
  {
   "cell_type": "code",
   "execution_count": 32,
   "id": "8f9e7d11",
   "metadata": {},
   "outputs": [
    {
     "name": "stdout",
     "output_type": "stream",
     "text": [
      "Total number of female employees in bands 0-III: 158.0\n",
      "Total number of male employees in bands 0-III: 578.0\n"
     ]
    }
   ],
   "source": [
    "# Calculate the total number of female and male employees\n",
    "total_female_band_O_III = filtered_gender_by_band_equivalence['female'].sum()\n",
    "total_male_band_O_III = filtered_gender_by_band_equivalence['male'].sum()\n",
    "\n",
    "# Display the result\n",
    "print(\"Total number of female employees in bands 0-III:\", total_female_band_O_III)\n",
    "print(\"Total number of male employees in bands 0-III:\", total_male_band_O_III)"
   ]
  },
  {
   "cell_type": "code",
   "execution_count": 33,
   "id": "fb9d31f0",
   "metadata": {
    "scrolled": false
   },
   "outputs": [
    {
     "data": {
      "image/png": "[encoded data removed]",
      "text/plain": [
       "<Figure size 640x480 with 1 Axes>"
      ]
     },
     "metadata": {},
     "output_type": "display_data"
    }
   ],
   "source": [
    "# Data\n",
    "labels = ['Female', 'Male']\n",
    "sizes = [total_female_band_O_III, total_male_band_O_III]\n",
    "\n",
    "# Plot\n",
    "fig, ax = plt.subplots()\n",
    "ax.pie(sizes, labels=labels, autopct='%1.1f%%', startangle=90, wedgeprops=dict(width=0.4), colors=['violet', 'green'])\n",
    "ax.axis('equal')  # Equal aspect ratio ensures that pie is drawn as a circle.\n",
    "\n",
    "# Add a circle at the center to create a doughnut chart\n",
    "center_circle = plt.Circle((0, 0), 0.80, fc='white')\n",
    "fig = plt.gcf()\n",
    "fig.gca().add_artist(center_circle)\n",
    "\n",
    "# Title\n",
    "plt.title('Distribution of Employees by Gender (Bands 0-III)')\n",
    "\n",
    "# Show the plot\n",
    "plt.show()"
   ]
  },
  {
   "cell_type": "markdown",
   "id": "7108881f",
   "metadata": {},
   "source": [
    "# Identify the Gap: Global Managerial Representation"
   ]
  },
  {
   "cell_type": "code",
   "execution_count": 34,
   "id": "3e42b4c4",
   "metadata": {},
   "outputs": [
    {
     "name": "stdout",
     "output_type": "stream",
     "text": [
      "Target Percentage: 40.0%\n",
      "Current Percentage: 27.18%\n",
      "Total Managers: 15750\n",
      "Gap Percentage: 12.82%\n",
      "Gap Quantity: 2019 managers\n"
     ]
    }
   ],
   "source": [
    "# Calculate current_percentage and total_managers\n",
    "current_percentage = percentage_gender_by_managerial_status.loc['Yes', 'female']\n",
    "total_managers = gender_by_managerial_status.loc['Yes'].sum()\n",
    "\n",
    "# Set your target_percentage\n",
    "target_percentage_global_managerial = 40.0  # Your global goal\n",
    "\n",
    "# Calculate the Gap Percentage\n",
    "gap_percentage = target_percentage_global_managerial - current_percentage\n",
    "\n",
    "# Calculate the Gap Quantity\n",
    "gap_quantity = (target_percentage_global_managerial / 100) * total_managers - (current_percentage / 100) * total_managers\n",
    "\n",
    "# Display the results\n",
    "print(f\"Target Percentage: {target_percentage_global_managerial}%\")\n",
    "print(f\"Current Percentage: {current_percentage:.2f}%\")\n",
    "print(f\"Total Managers: {total_managers}\")\n",
    "print(f\"Gap Percentage: {gap_percentage:.2f}%\")\n",
    "print(f\"Gap Quantity: {gap_quantity:.0f} managers\")"
   ]
  },
  {
   "cell_type": "code",
   "execution_count": 35,
   "id": "89df9569",
   "metadata": {},
   "outputs": [
    {
     "data": {
      "image/png": "[encoded data removed]",
      "text/plain": [
       "<Figure size 700x600 with 1 Axes>"
      ]
     },
     "metadata": {},
     "output_type": "display_data"
    }
   ],
   "source": [
    "# Data for plotting\n",
    "categories = ['Current Percentage', 'Gap Percentage']\n",
    "percentages = [current_percentage, gap_percentage]\n",
    "\n",
    "# Plotting the bar chart\n",
    "plt.figure(figsize=(7, 6))\n",
    "plt.bar(categories, percentages, color=['pink', 'grey'])\n",
    "plt.ylabel('Percentage')\n",
    "plt.title('Gender Diversity Current Representation and Gap to Target')\n",
    "plt.ylim(0, 30)  # Adjust the y-axis limits based on your data range\n",
    "\n",
    "# Adding text annotations\n",
    "for i, percentage in enumerate(percentages):\n",
    "    plt.text(i, percentage + 1, f'{percentage:.2f}%', ha='center', va='bottom')\n",
    "\n",
    "# Show the plot\n",
    "plt.show()"
   ]
  },
  {
   "cell_type": "markdown",
   "id": "17d06c98",
   "metadata": {},
   "source": [
    "# Identify the Gap: Zone Representation"
   ]
  },
  {
   "cell_type": "code",
   "execution_count": 36,
   "id": "2d938dfc",
   "metadata": {},
   "outputs": [],
   "source": [
    "## There is no need to identify the gap as all Zones have a representation above 20% as indicated in the minimum requirements"
   ]
  },
  {
   "cell_type": "markdown",
   "id": "71300ae5",
   "metadata": {},
   "source": [
    "# Identify the Gap: Function Representation"
   ]
  },
  {
   "cell_type": "code",
   "execution_count": 37,
   "id": "bb05ae9e",
   "metadata": {},
   "outputs": [
    {
     "name": "stdout",
     "output_type": "stream",
     "text": [
      "Global functions with female representation below the target:\n",
      "Index(['sales', 'supply'], dtype='object', name='Global Function')\n",
      "\n",
      "Gap percentage for each function:\n",
      "Global Function\n",
      "sales     0.860306\n",
      "supply    5.518848\n",
      "Name: female, dtype: float64\n"
     ]
    }
   ],
   "source": [
    "# Set the target percentage\n",
    "target_percentage_global_function = 30.0\n",
    "\n",
    "# Identify global functions with female representation below the target\n",
    "below_target_functions = percentage_gender_by_global_function[percentage_gender_by_global_function['female'] < target_percentage_global_function].index\n",
    "\n",
    "# Calculate the gap percentage for each function\n",
    "gap_percentage_by_function = target_percentage_global_function - percentage_gender_by_global_function.loc[below_target_functions, 'female']\n",
    "\n",
    "# Calculate the total number of female employees across all functions\n",
    "total_female_employees = gender_by_global_function['female'].sum()\n",
    "\n",
    "# Calculate the gap quantity in terms of female employees\n",
    "gap_quantity_female_employees = (target_percentage_global_function * total_by_global_function.sum() / 100) - (total_female_employees * target_percentage_global_function / 100)\n",
    "\n",
    "# Display the result\n",
    "print(\"Global functions with female representation below the target:\")\n",
    "print(below_target_functions)\n",
    "\n",
    "print(\"\\nGap percentage for each function:\")\n",
    "print(gap_percentage_by_function)"
   ]
  },
  {
   "cell_type": "code",
   "execution_count": 38,
   "id": "baa3efe5",
   "metadata": {},
   "outputs": [
    {
     "name": "stdout",
     "output_type": "stream",
     "text": [
      "Total number of female employees across all functions: 12659\n",
      "Gap quantity in terms of female employees: 7244.7\n"
     ]
    }
   ],
   "source": [
    "# Display the corrected result\n",
    "print(\"Total number of female employees across all functions:\", total_female_employees)\n",
    "print(\"Gap quantity in terms of female employees:\", gap_quantity_female_employees)"
   ]
  },
  {
   "cell_type": "code",
   "execution_count": 39,
   "id": "4873b1fc",
   "metadata": {},
   "outputs": [
    {
     "data": {
      "image/png": "[encoded data removed]",
      "text/plain": [
       "<Figure size 1000x600 with 1 Axes>"
      ]
     },
     "metadata": {},
     "output_type": "display_data"
    }
   ],
   "source": [
    "# Data preparation\n",
    "functions_below_target = ['sales', 'supply']\n",
    "current_percentages = percentage_gender_by_global_function.loc[functions_below_target, 'female']\n",
    "gap_percentages = target_percentage_global_function - current_percentages\n",
    "\n",
    "# Plotting\n",
    "fig, ax = plt.subplots(figsize=(10, 6))\n",
    "\n",
    "# Bar for current state\n",
    "current_bars = ax.bar(np.arange(len(functions_below_target)) - 0.2, current_percentages, width=0.4, label='Current State', color='pink', alpha=0.7)\n",
    "\n",
    "# Bar for gap in percentages\n",
    "gap_bars = ax.bar(np.arange(len(functions_below_target)) + 0.2, gap_percentages, width=0.4, label='Gap', color='grey', alpha=0.7)\n",
    "\n",
    "# Add percentages above each bar\n",
    "for bar, percentage in zip(current_bars, current_percentages):\n",
    "    height = bar.get_height()\n",
    "    ax.annotate(f'{percentage:.2f}%', (bar.get_x() + bar.get_width() / 2, height), ha='center', va='bottom', fontsize=10)\n",
    "\n",
    "for bar, percentage in zip(gap_bars, gap_percentages):\n",
    "    height = bar.get_height()\n",
    "    ax.annotate(f'{percentage:.2f}%', (bar.get_x() + bar.get_width() / 2, height), ha='center', va='bottom', fontsize=10)\n",
    "\n",
    "# Add labels and title\n",
    "plt.title('Current vs. Gap by Global Functions Below Target')\n",
    "plt.xlabel('Global Function')\n",
    "plt.ylabel('Percentage')\n",
    "plt.xticks(np.arange(len(functions_below_target)), functions_below_target)\n",
    "plt.legend()\n",
    "\n",
    "# Show the plot\n",
    "plt.show()\n"
   ]
  },
  {
   "cell_type": "markdown",
   "id": "205a346a",
   "metadata": {},
   "source": [
    "# Identify the Gap: Band 0-III Representation"
   ]
  },
  {
   "cell_type": "code",
   "execution_count": 40,
   "id": "fa0e44d2",
   "metadata": {},
   "outputs": [
    {
     "name": "stdout",
     "output_type": "stream",
     "text": [
      "Percentage of female employees in bands 0-III: 21.467391304347828\n",
      "Target Percentage: 33.0\n",
      "Gap Percentage: 11.532608695652172\n"
     ]
    }
   ],
   "source": [
    "# Calculate the total number of employees in bands 0-III\n",
    "total_employees_band_O_III = filtered_gender_by_band_equivalence.sum(axis=1).sum()\n",
    "\n",
    "# Calculate the percentage of female employees in bands 0-III\n",
    "percentage_female_band_O_III = (total_female_band_O_III / total_employees_band_O_III) * 100\n",
    "\n",
    "# Set the target percentage\n",
    "target_percentage_band_O_III = 33.0\n",
    "\n",
    "# Calculate the gap percentage\n",
    "gap_percentage_band_O_III = target_percentage_band_O_III - percentage_female_band_O_III\n",
    "\n",
    "# Display the results\n",
    "print(\"Percentage of female employees in bands 0-III:\", percentage_female_band_O_III)\n",
    "print(\"Target Percentage:\", target_percentage_band_O_III)\n",
    "print(\"Gap Percentage:\", gap_percentage_band_O_III)"
   ]
  },
  {
   "cell_type": "code",
   "execution_count": 41,
   "id": "e40c35b5",
   "metadata": {},
   "outputs": [
    {
     "data": {
      "image/png": "[encoded data removed]",
      "text/plain": [
       "<Figure size 800x400 with 1 Axes>"
      ]
     },
     "metadata": {},
     "output_type": "display_data"
    }
   ],
   "source": [
    "# Create a horizontal bar chart\n",
    "fig, ax = plt.subplots(figsize=(8, 4))\n",
    "bars = ax.barh(['Current Representation', 'Gap Representation'], [percentage_female_band_O_III, gap_percentage_band_O_III], color=['pink', 'grey'])\n",
    "\n",
    "# Add labels and title\n",
    "ax.set_title('Current vs. Gap in Bands 0-III')\n",
    "ax.set_xlabel('Percentage')\n",
    "ax.set_xlim(0, 33)\n",
    "\n",
    "# Add percentages inside the bars\n",
    "for bar in bars:\n",
    "    plt.text(bar.get_width(), bar.get_y() + bar.get_height()/2, f'{bar.get_width():.2f}%', ha='left', va='center')\n",
    "\n",
    "# Show the plot\n",
    "plt.show()"
   ]
  },
  {
   "cell_type": "code",
   "execution_count": null,
   "id": "78c5b208",
   "metadata": {},
   "outputs": [],
   "source": []
  },
  {
   "cell_type": "code",
   "execution_count": null,
   "id": "70604ad6",
   "metadata": {},
   "outputs": [],
   "source": []
  },
  {
   "cell_type": "code",
   "execution_count": null,
   "id": "6066fccd",
   "metadata": {},
   "outputs": [],
   "source": []
  },
  {
   "cell_type": "code",
   "execution_count": null,
   "id": "943d3a68",
   "metadata": {},
   "outputs": [],
   "source": []
  },
  {
   "cell_type": "code",
   "execution_count": null,
   "id": "e663802e",
   "metadata": {},
   "outputs": [],
   "source": []
  }
 ],
 "metadata": {
  "kernelspec": {
   "display_name": "Python 3 (ipykernel)",
   "language": "python",
   "name": "python3"
  },
  "language_info": {
   "codemirror_mode": {
    "name": "ipython",
    "version": 3
   },
   "file_extension": ".py",
   "mimetype": "text/x-python",
   "name": "python",
   "nbconvert_exporter": "python",
   "pygments_lexer": "ipython3",
   "version": "3.11.3"
  }
 },
 "nbformat": 4,
 "nbformat_minor": 5
}
